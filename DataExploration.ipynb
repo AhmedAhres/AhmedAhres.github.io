{
 "cells": [
  {
   "cell_type": "code",
   "execution_count": 1,
   "metadata": {},
   "outputs": [],
   "source": [
    "import fiona\n",
    "import pandas as pd\n",
    "import geopandas as gpd\n",
    "import csv"
   ]
  },
  {
   "cell_type": "code",
   "execution_count": 2,
   "metadata": {},
   "outputs": [
    {
     "ename": "OSError",
     "evalue": "no such file or directory: 'ipbes_pollination_summary_hg_2018-08-16_12_21_-0700_036a5f15f926.gpkg'",
     "output_type": "error",
     "traceback": [
      "\u001b[0;31m---------------------------------------------------------------------------\u001b[0m",
      "\u001b[0;31mOSError\u001b[0m                                   Traceback (most recent call last)",
      "\u001b[0;32m<ipython-input-2-384e895fb4fd>\u001b[0m in \u001b[0;36m<module>\u001b[0;34m\u001b[0m\n\u001b[1;32m      1\u001b[0m \u001b[0;32mfrom\u001b[0m \u001b[0mcollections\u001b[0m \u001b[0;32mimport\u001b[0m \u001b[0mOrderedDict\u001b[0m\u001b[0;34m\u001b[0m\u001b[0m\n\u001b[1;32m      2\u001b[0m \u001b[0;34m\u001b[0m\u001b[0m\n\u001b[0;32m----> 3\u001b[0;31m \u001b[0mlayers\u001b[0m \u001b[0;34m=\u001b[0m \u001b[0mfiona\u001b[0m\u001b[0;34m.\u001b[0m\u001b[0mlistlayers\u001b[0m\u001b[0;34m(\u001b[0m\u001b[0;34m'ipbes_pollination_summary_hg_2018-08-16_12_21_-0700_036a5f15f926.gpkg'\u001b[0m\u001b[0;34m)\u001b[0m\u001b[0;34m\u001b[0m\u001b[0m\n\u001b[0m",
      "\u001b[0;32m/anaconda3/envs/dataviz/lib/python3.7/site-packages/fiona/__init__.py\u001b[0m in \u001b[0;36mlistlayers\u001b[0;34m(path, vfs)\u001b[0m\n\u001b[1;32m    231\u001b[0m             \u001b[0;32mraise\u001b[0m \u001b[0mIOError\u001b[0m\u001b[0;34m(\u001b[0m\u001b[0;34m\"no such archive file: %r\"\u001b[0m \u001b[0;34m%\u001b[0m \u001b[0marchive\u001b[0m\u001b[0;34m)\u001b[0m\u001b[0;34m\u001b[0m\u001b[0m\n\u001b[1;32m    232\u001b[0m     \u001b[0;32melif\u001b[0m \u001b[0;32mnot\u001b[0m \u001b[0mos\u001b[0m\u001b[0;34m.\u001b[0m\u001b[0mpath\u001b[0m\u001b[0;34m.\u001b[0m\u001b[0mexists\u001b[0m\u001b[0;34m(\u001b[0m\u001b[0mpath\u001b[0m\u001b[0;34m)\u001b[0m\u001b[0;34m:\u001b[0m\u001b[0;34m\u001b[0m\u001b[0m\n\u001b[0;32m--> 233\u001b[0;31m         \u001b[0;32mraise\u001b[0m \u001b[0mIOError\u001b[0m\u001b[0;34m(\u001b[0m\u001b[0;34m\"no such file or directory: %r\"\u001b[0m \u001b[0;34m%\u001b[0m \u001b[0mpath\u001b[0m\u001b[0;34m)\u001b[0m\u001b[0;34m\u001b[0m\u001b[0m\n\u001b[0m\u001b[1;32m    234\u001b[0m \u001b[0;34m\u001b[0m\u001b[0m\n\u001b[1;32m    235\u001b[0m     \u001b[0;32mwith\u001b[0m \u001b[0mdrivers\u001b[0m\u001b[0;34m(\u001b[0m\u001b[0;34m)\u001b[0m\u001b[0;34m:\u001b[0m\u001b[0;34m\u001b[0m\u001b[0m\n",
      "\u001b[0;31mOSError\u001b[0m: no such file or directory: 'ipbes_pollination_summary_hg_2018-08-16_12_21_-0700_036a5f15f926.gpkg'"
     ]
    }
   ],
   "source": [
    "from collections import OrderedDict\n",
    "    \n",
    "layers = fiona.listlayers('ipbes_pollination_summary_hg_2018-08-16_12_21_-0700_036a5f15f926.gpkg')"
   ]
  },
  {
   "cell_type": "code",
   "execution_count": null,
   "metadata": {},
   "outputs": [],
   "source": [
    "layers"
   ]
  },
  {
   "cell_type": "code",
   "execution_count": null,
   "metadata": {},
   "outputs": [],
   "source": [
    "all_datasets = dict()\n",
    "\n",
    "for layer in layers:\n",
    "    all_datasets[layer.lower()] = gpd.read_file(\n",
    "        \"ipbes_pollination_summary_hg_2018-08-16_12_21_-0700_036a5f15f926.gpkg\", layer=layer\n",
    "    )"
   ]
  },
  {
   "cell_type": "code",
   "execution_count": null,
   "metadata": {},
   "outputs": [],
   "source": [
    "all_datasets['relevant_population']"
   ]
  },
  {
   "cell_type": "markdown",
   "metadata": {},
   "source": [
    "### Fields we want to visualize:\n",
    "NCP_cur,NCP_sspX, UN_cur, UN_sspX, or any of the changes... cNCP_, cUN_\n",
    "### Preparing the data\n",
    "\n",
    "en = energy , fo = Folate , va = vitamineA <br>\n",
    "curr = current<br>\n",
    "ssp1 = First scenario<br> <br> \n",
    "UN = Unmet need (current, ssp1 , ssp3 , ssp5)<br>\n",
    "NCP = Nature's Contribution to Pollination(current, ssp1 , ssp3 , ssp5)<br>\n"
   ]
  },
  {
   "cell_type": "code",
   "execution_count": null,
   "metadata": {
    "scrolled": false
   },
   "outputs": [],
   "source": [
    "unxncp = all_datasets['unxncp']\n",
    "\n",
    "current = unxncp[['GRIDCODE','prod_poll_dep_unrealized_en_1d_cur','prod_poll_dep_unrealized_fo_1d_cur','prod_poll_dep_unrealized_va_1d_cur',\n",
    "                  'nat_cont_poll_en_1d_cur','nat_cont_poll_fo_1d_cur','nat_cont_poll_va_1d_cur','prod_poll_dep_realized_en_1d_cur','prod_poll_dep_realized_fo_1d_cur'\n",
    "                  ,'prod_poll_dep_realized_va_1d_cur','UN_cur','NCP_cur']]\n",
    "\n",
    "ssp1 = unxncp[['GRIDCODE','prod_poll_dep_unrealized_en_1d_ssp1','prod_poll_dep_unrealized_fo_1d_ssp1','prod_poll_dep_unrealized_va_1d_ssp1',\n",
    "                  'nat_cont_poll_en_1d_ssp1','nat_cont_poll_fo_1d_ssp1','nat_cont_poll_va_1d_ssp1','prod_poll_dep_realized_en_1d_ssp1','prod_poll_dep_realized_fo_1d_ssp1'\n",
    "                  ,'prod_poll_dep_realized_va_1d_ssp1','UN_ssp1','NCP_ssp1']]\n",
    "\n",
    "ssp3 = unxncp[['GRIDCODE','prod_poll_dep_unrealized_en_1d_ssp3','prod_poll_dep_unrealized_fo_1d_ssp3','prod_poll_dep_unrealized_va_1d_ssp3',\n",
    "                  'nat_cont_poll_en_1d_ssp3','nat_cont_poll_fo_1d_ssp3','nat_cont_poll_va_1d_ssp3','prod_poll_dep_realized_en_1d_ssp3','prod_poll_dep_realized_fo_1d_ssp3'\n",
    "                  ,'prod_poll_dep_realized_va_1d_ssp3','UN_ssp3','NCP_ssp3']]\n",
    "\n",
    "ssp5 = unxncp[['GRIDCODE','prod_poll_dep_unrealized_en_1d_ssp5','prod_poll_dep_unrealized_fo_1d_ssp5','prod_poll_dep_unrealized_va_1d_ssp5',\n",
    "                  'nat_cont_poll_en_1d_ssp5','nat_cont_poll_fo_1d_ssp5','nat_cont_poll_va_1d_ssp5','prod_poll_dep_realized_en_1d_ssp5','prod_poll_dep_realized_fo_1d_ssp5'\n",
    "                  ,'prod_poll_dep_realized_va_1d_ssp5','UN_ssp5','NCP_ssp5']]\n",
    "\n",
    "\n",
    "# Interesting Data \n",
    "NCP = unxncp[['GRIDCODE','NCP_cur','NCP_ssp1','NCP_ssp3','NCP_ssp5']]\n",
    "UN = unxncp[['GRIDCODE','UN_cur','UN_ssp1','UN_ssp3','UN_ssp5']]\n",
    "\n",
    "# Changes\n",
    "\n",
    "cNCP = unxncp[['GRIDCODE','cNCP_ssp1','cNCP_ssp3','cNCP_ssp5']]\n",
    "cUN = unxncp[['GRIDCODE','cUN_ssp1','cUN_ssp3','cUN_ssp5']]\n",
    "\n",
    "\n",
    "\n",
    "# # Data to csv\n",
    "# NCP.to_csv('NCP', sep='\\t')\n"
   ]
  },
  {
   "cell_type": "code",
   "execution_count": null,
   "metadata": {},
   "outputs": [],
   "source": [
    "list(all_datasets['pollination_table_full'].columns)"
   ]
  },
  {
   "cell_type": "code",
   "execution_count": null,
   "metadata": {},
   "outputs": [],
   "source": [
    "all_datasets['pollination_table_full']"
   ]
  },
  {
   "cell_type": "markdown",
   "metadata": {},
   "source": [
    "**Description of the data** <br>\n",
    "\n",
    "X1 = prod_poll_dep_unrealized (The unrealized production that is pollination dependant)<br>\n",
    "X2 = prod_poll_dep_realized ( The realized production that is pollination dependant) <br>\n",
    "Y = prod_poll_indep (production that is pollination independant)<br>\n",
    "Z = nut_req ( nutrition required for the area)<br>\n",
    "\n",
    "**Data Available for these timeframes:** 1850 - 1900 - 1910 - 1945 - 1980 - current - ssp1 - ssp3 - ssp5"
   ]
  },
  {
   "cell_type": "code",
   "execution_count": null,
   "metadata": {
    "scrolled": true
   },
   "outputs": [],
   "source": [
    "pollination_table = all_datasets['pollination_table_full']\n",
    "\n",
    "#  1850\n",
    "# Z is not available for this year\n",
    "data_1850 = pollination_table[['GRIDCODE','country',\n",
    "                               'prod_poll_dep_unrealized_en_1d_1850','prod_poll_dep_unrealized_va_1d_1850','prod_poll_dep_unrealized_fo_1d_1850',\n",
    "                               'prod_poll_dep_realized_en_1d_1850','prod_poll_dep_realized_va_1d_1850','prod_poll_dep_realized_fo_1d_1850',\n",
    "                               'prod_total_realized_en_1d_1850','prod_total_realized_va_1d_1850','prod_total_realized_fo_1d_1850']]\n",
    "data_1850.columns = ['GRIDCODE','name','X1_en','X1_va','X1_fo','X2_en','X2_va','X2_fo','X2+Y_en','X2+Y_va','X2+Y_fo']\n",
    "\n",
    "#  1900\n",
    "# Z is not available for this year\n",
    "data_1900 = pollination_table[['GRIDCODE','country',\n",
    "                               'prod_poll_dep_unrealized_en_1d_1900','prod_poll_dep_unrealized_va_1d_1900','prod_poll_dep_unrealized_fo_1d_1900',\n",
    "                               'prod_poll_dep_realized_en_1d_1900','prod_poll_dep_realized_va_1d_1900','prod_poll_dep_realized_fo_1d_1900',\n",
    "                               'prod_total_realized_en_1d_1900','prod_total_realized_va_1d_1900','prod_total_realized_fo_1d_1900']]\n",
    "data_1900.columns = ['GRIDCODE','name','X1_en','X1_va','X1_fo','X2_en','X2_va','X2_fo','X2+Y_en','X2+Y_va','X2+Y_fo']\n",
    "\n",
    "#  1910\n",
    "# Z is not available for this year\n",
    "data_1910 = pollination_table[['GRIDCODE','country',\n",
    "                               'prod_poll_dep_unrealized_en_1d_1910','prod_poll_dep_unrealized_va_1d_1910','prod_poll_dep_unrealized_fo_1d_1910',\n",
    "                               'prod_poll_dep_realized_en_1d_1910','prod_poll_dep_realized_va_1d_1910','prod_poll_dep_realized_fo_1d_1910',\n",
    "                               'prod_total_realized_en_1d_1910','prod_total_realized_va_1d_1910','prod_total_realized_fo_1d_1910']]\n",
    "data_1910.columns = ['GRIDCODE','name','X1_en','X1_va','X1_fo','X2_en','X2_va','X2_fo','X2+Y_en','X2+Y_va','X2+Y_fo']\n",
    "\n",
    "#  1945\n",
    "# Z is not available for this year\n",
    "data_1945 = pollination_table[['GRIDCODE','country',\n",
    "                               'prod_poll_dep_unrealized_en_1d_1945','prod_poll_dep_unrealized_va_1d_1945','prod_poll_dep_unrealized_fo_1d_1945',\n",
    "                               'prod_poll_dep_realized_en_1d_1945','prod_poll_dep_realized_va_1d_1945','prod_poll_dep_realized_fo_1d_1945',\n",
    "                               'prod_total_realized_en_1d_1945','prod_total_realized_va_1d_1945','prod_total_realized_fo_1d_1945']]\n",
    "data_1945.columns = ['GRIDCODE','name','X1_en','X1_va','X1_fo','X2_en','X2_va','X2_fo','X2+Y_en','X2+Y_va','X2+Y_fo']\n",
    "\n",
    "#  1980\n",
    "# Z is not available for this year\n",
    "data_1980 = pollination_table[['GRIDCODE','country',\n",
    "                               'prod_poll_dep_unrealized_en_1d_1980','prod_poll_dep_unrealized_va_1d_1980','prod_poll_dep_unrealized_fo_1d_1980',\n",
    "                               'prod_poll_dep_realized_en_1d_1980','prod_poll_dep_realized_va_1d_1980','prod_poll_dep_realized_fo_1d_1980',\n",
    "                               'prod_total_realized_en_1d_1980','prod_total_realized_va_1d_1980','prod_total_realized_fo_1d_1980']]\n",
    "data_1980.columns = ['GRIDCODE','name','X1_en','X1_va','X1_fo','X2_en','X2_va','X2_fo','X2+Y_en','X2+Y_va','X2+Y_fo']\n",
    "data_1980\n",
    "\n",
    "#  cur\n",
    "data_cur = pollination_table[['GRIDCODE','country',\n",
    "                               'prod_poll_dep_unrealized_en_1d_cur','prod_poll_dep_unrealized_va_1d_cur','prod_poll_dep_unrealized_fo_1d_cur',\n",
    "                               'prod_poll_dep_realized_en_1d_cur','prod_poll_dep_realized_va_1d_cur','prod_poll_dep_realized_fo_1d_cur',\n",
    "                               'prod_total_realized_en_1d_cur','prod_total_realized_va_1d_cur','prod_total_realized_fo_1d_cur',\n",
    "                               'nut_req_en_1d_cur','nut_req_va_1d_cur','nut_req_fo_1d_cur']]\n",
    "\n",
    "data_cur.columns = ['GRIDCODE','name','X1_en','X1_va','X1_fo','X2_en','X2_va','X2_fo','X2+Y_en','X2+Y_va','X2+Y_fo','Z_en','Z_va','Z_fo']\n",
    "\n",
    "#  ssp1\n",
    "data_ssp1 = pollination_table[['GRIDCODE','country',\n",
    "                               'prod_poll_dep_unrealized_en_1d_ssp1','prod_poll_dep_unrealized_va_1d_ssp1','prod_poll_dep_unrealized_fo_1d_ssp1',\n",
    "                               'prod_poll_dep_realized_en_1d_ssp1','prod_poll_dep_realized_va_1d_ssp1','prod_poll_dep_realized_fo_1d_ssp1',\n",
    "                               'prod_total_realized_en_1d_ssp1','prod_total_realized_va_1d_ssp1','prod_total_realized_fo_1d_ssp1',\n",
    "                               'nut_req_en_1d_ssp1','nut_req_va_1d_ssp1','nut_req_fo_1d_ssp1']]\n",
    "\n",
    "data_ssp1.columns = ['GRIDCODE','name','X1_en','X1_va','X1_fo','X2_en','X2_va','X2_fo','X2+Y_en','X2+Y_va','X2+Y_fo','Z_en','Z_va','Z_fo']\n",
    "\n",
    "#  ssp3\n",
    "data_ssp3 = pollination_table[['GRIDCODE','country',\n",
    "                               'prod_poll_dep_unrealized_en_1d_ssp3','prod_poll_dep_unrealized_va_1d_ssp3','prod_poll_dep_unrealized_fo_1d_ssp3',\n",
    "                               'prod_poll_dep_realized_en_1d_ssp3','prod_poll_dep_realized_va_1d_ssp3','prod_poll_dep_realized_fo_1d_ssp3',\n",
    "                               'prod_total_realized_en_1d_ssp3','prod_total_realized_va_1d_ssp3','prod_total_realized_fo_1d_ssp3',\n",
    "                               'nut_req_en_1d_ssp3','nut_req_va_1d_ssp3','nut_req_fo_1d_ssp3']]\n",
    "\n",
    "data_ssp3.columns = ['GRIDCODE','name','X1_en','X1_va','X1_fo','X2_en','X2_va','X2_fo','X2+Y_en','X2+Y_va','X2+Y_fo','Z_en','Z_va','Z_fo']\n",
    "\n",
    "#  ssp5\n",
    "data_ssp5 = pollination_table[['GRIDCODE','country',\n",
    "                               'prod_poll_dep_unrealized_en_1d_ssp5','prod_poll_dep_unrealized_va_1d_ssp5','prod_poll_dep_unrealized_fo_1d_ssp5',\n",
    "                               'prod_poll_dep_realized_en_1d_ssp5','prod_poll_dep_realized_va_1d_ssp5','prod_poll_dep_realized_fo_1d_ssp5',\n",
    "                               'prod_total_realized_en_1d_ssp5','prod_total_realized_va_1d_ssp5','prod_total_realized_fo_1d_ssp5',\n",
    "                               'nut_req_en_1d_ssp5','nut_req_va_1d_ssp5','nut_req_fo_1d_ssp5']]\n",
    "\n",
    "data_ssp5.columns = ['GRIDCODE','name','X1_en','X1_va','X1_fo','X2_en','X2_va','X2_fo','X2+Y_en','X2+Y_va','X2+Y_fo','Z_en','Z_va','Z_fo']\n",
    "\n",
    "\n",
    "\n"
   ]
  },
  {
   "cell_type": "code",
   "execution_count": null,
   "metadata": {
    "scrolled": true
   },
   "outputs": [],
   "source": [
    "def add_iso_columns (dataFrame,country_iso):\n",
    "    dataFrame = pd.merge(dataFrame, country_iso,left_on='name',right_on='English short name lower case', how='outer').head(dataFrame.shape[0])\n",
    "    dataFrame= dataFrame.drop(columns=['English short name lower case', 'Alpha-2 code','Numeric code','ISO 3166-2','Unnamed: 0'])\n",
    "    dataFrame = dataFrame.rename(index=str, columns={\"Alpha-3 code\": \"iso3\"})\n",
    "\n",
    "    cols = dataFrame.columns.tolist()\n",
    "    cols = [cols[0]] + [cols[-1]] + cols[1:-1]\n",
    "    dataFrame = dataFrame[cols]\n",
    "    return dataFrame\n",
    "\n",
    "def add_iso (dataFrame,country_iso, name):\n",
    "    dataFrame = dataFrame.groupby(['name']).sum()\n",
    "    dataFrame.reset_index(level=0, inplace=True)\n",
    "    dataFrame= add_iso_columns(dataFrame,country_iso)\n",
    "    return dataFrame\n",
    "    \n",
    "def create_csv(dataFrame,country_iso, name):\n",
    "    dataFrame = add_iso(dataFrame,country_iso, name)\n",
    "    dataFrame.to_csv(name +'.csv', sep=',')\n",
    "    \n",
    "def create_all_csv(data_folder):\n",
    "    create_csv (data_1850,country_iso, data_folder+'1850')\n",
    "    create_csv (data_1900,country_iso, data_folder+'1900')\n",
    "    create_csv (data_1910,country_iso, data_folder+'1910')\n",
    "    create_csv (data_1945,country_iso, data_folder+'1945')\n",
    "    create_csv (data_1980,country_iso, data_folder+'1980')\n",
    "    create_csv (data_cur,country_iso, data_folder+'current')\n",
    "    create_csv (data_ssp1,country_iso, data_folder+'ssp1')\n",
    "    create_csv (data_ssp3,country_iso, data_folder+'ssp3')\n",
    "    create_csv (data_ssp5,country_iso, data_folder+'ssp5')\n",
    "    \n"
   ]
  },
  {
   "cell_type": "code",
   "execution_count": null,
   "metadata": {},
   "outputs": [],
   "source": [
    "country_iso = pd.read_csv(\"country_iso.csv\")\n",
    "data_folder = 'data_iso/'\n",
    "create_all_csv(data_folder)"
   ]
  },
  {
   "cell_type": "code",
   "execution_count": null,
   "metadata": {},
   "outputs": [],
   "source": [
    "# X2+Y folate for all the periods\n",
    "mock_data = pd.DataFrame(index=data_1850.index)\n",
    "mock_data = pd.concat([data_1850.name,data_1850['X2+Y_fo'],\n",
    "                      data_1900['X2+Y_fo'],data_1910['X2+Y_fo'],\n",
    "                      data_1945['X2+Y_fo'],data_1980['X2+Y_fo'],\n",
    "                      data_cur['X2+Y_fo'],data_ssp1['X2+Y_fo'],\n",
    "                      data_ssp3['X2+Y_fo'],data_ssp5['X2+Y_fo'],], axis=1)\n",
    "mock_data.columns = ['name', '1850','1900', '1910','1945', '1980','cur', 'ssp1','ssp3', 'ssp5']\n",
    "mock_data = add_iso (mock_data,country_iso, data_folder+'mock_data')\n",
    "mock_data.to_csv('mock_data' +'.csv', sep=',')\n",
    "\n",
    "world_data = pd.DataFrame(mock_data.sum()).transpose().drop(columns=['name','iso3'])\n",
    "world_data.to_csv('world_data' +'.csv', sep=',')\n",
    "mock_data"
   ]
  },
  {
   "cell_type": "markdown",
   "metadata": {},
   "source": [
    "Questions:\n",
    "\n",
    "1. What does the GRIDCODE actually mean? and if they are the regions how can we relate them to latitude and longitude?\n",
    "2. SSP1, SSP3, SSP5 are they the future scenario description? but how are these scenarios described?\n",
    "3. Difference between semi natural and natural habitats?\n",
    "4. 10s – globio, 30s – gpw, monfreda 2008 – 5m, ssp – 1/8d) clearing scales?\n",
    "5. What does `c_` prefix in front of columns mean?\n",
    "\n",
    "Observations:\n",
    "\n",
    "- GRIDCODE is unique."
   ]
  }
 ],
 "metadata": {
  "kernelspec": {
   "display_name": "Python [conda env:dataviz]",
   "language": "python",
   "name": "conda-env-dataviz-py"
  },
  "language_info": {
   "codemirror_mode": {
    "name": "ipython",
    "version": 3
   },
   "file_extension": ".py",
   "mimetype": "text/x-python",
   "name": "python",
   "nbconvert_exporter": "python",
   "pygments_lexer": "ipython3",
   "version": "3.7.0"
  }
 },
 "nbformat": 4,
 "nbformat_minor": 2
}
